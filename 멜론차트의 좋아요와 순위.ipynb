{
 "cells": [
  {
   "cell_type": "code",
   "execution_count": 77,
   "metadata": {},
   "outputs": [],
   "source": [
    "import sys # 시스템\n",
    "import os  # 시스템\n",
    "\n",
    "import pandas as pd  # 판다스 : 데이터분석 라이브러리\n",
    "import numpy as np   # 넘파이 : 숫자, 행렬 데이터 라이브러리\n",
    "\n",
    "from bs4 import BeautifulSoup    # html 데이터를 전처리\n",
    "from selenium import webdriver   # 웹 브라우저 자동화\n",
    "import time    # 서버와 통신할 때 중간중간 시간 지연. 보통은 1초\n",
    "from tqdm import tqdm_notebook   # for문 돌릴 때 진행상황을 %게이지로 알려준다."
   ]
  },
  {
   "cell_type": "code",
   "execution_count": 78,
   "metadata": {},
   "outputs": [],
   "source": [
    "path = \"chromedriver.exe\"\n",
    "driver = webdriver.Chrome(path)\n",
    "driver.get('https://www.melon.com/index.htm')\n",
    "time.sleep(2)  # 2초간 정지"
   ]
  },
  {
   "cell_type": "code",
   "execution_count": 79,
   "metadata": {},
   "outputs": [],
   "source": [
    "driver.find_element_by_link_text(\"멜론차트\").click()"
   ]
  },
  {
   "cell_type": "code",
   "execution_count": 80,
   "metadata": {},
   "outputs": [
    {
     "data": {
      "text/plain": [
       "'21,240'"
      ]
     },
     "execution_count": 80,
     "metadata": {},
     "output_type": "execute_result"
    }
   ],
   "source": [
    "driver.find_elements_by_css_selector(\".button_etc.like .cnt\")[99].text # 상위클래스 띄우고 하위클래스"
   ]
  },
  {
   "cell_type": "code",
   "execution_count": 81,
   "metadata": {},
   "outputs": [],
   "source": [
    "like = []\n",
    "\n",
    "\n",
    "for i in range(0,99):\n",
    "    like.append(driver.find_elements_by_css_selector(\".button_etc.like .cnt\")[i].text)"
   ]
  },
  {
   "cell_type": "code",
   "execution_count": 82,
   "metadata": {},
   "outputs": [
    {
     "data": {
      "text/plain": [
       "\"롤린 (Rollin')\""
      ]
     },
     "execution_count": 82,
     "metadata": {},
     "output_type": "execute_result"
    }
   ],
   "source": [
    "driver.find_elements_by_css_selector(\".wrap .wrap_song_info .ellipsis.rank01\")[0].text"
   ]
  },
  {
   "cell_type": "code",
   "execution_count": 83,
   "metadata": {},
   "outputs": [],
   "source": [
    "song = []\n",
    "\n",
    "for i in range(0,99):\n",
    "    song.append(driver.find_elements_by_css_selector(\".wrap .wrap_song_info .ellipsis.rank01\")[i].text)"
   ]
  },
  {
   "cell_type": "code",
   "execution_count": 84,
   "metadata": {},
   "outputs": [
    {
     "data": {
      "text/html": [
       "<div>\n",
       "<style scoped>\n",
       "    .dataframe tbody tr th:only-of-type {\n",
       "        vertical-align: middle;\n",
       "    }\n",
       "\n",
       "    .dataframe tbody tr th {\n",
       "        vertical-align: top;\n",
       "    }\n",
       "\n",
       "    .dataframe thead th {\n",
       "        text-align: right;\n",
       "    }\n",
       "</style>\n",
       "<table border=\"1\" class=\"dataframe\">\n",
       "  <thead>\n",
       "    <tr style=\"text-align: right;\">\n",
       "      <th></th>\n",
       "      <th>song</th>\n",
       "      <th>like</th>\n",
       "    </tr>\n",
       "  </thead>\n",
       "  <tbody>\n",
       "    <tr>\n",
       "      <th>0</th>\n",
       "      <td>롤린 (Rollin')</td>\n",
       "      <td>252,692</td>\n",
       "    </tr>\n",
       "    <tr>\n",
       "      <th>1</th>\n",
       "      <td>Peaches (Feat. Daniel Caesar &amp; Giveon)</td>\n",
       "      <td>118,922</td>\n",
       "    </tr>\n",
       "    <tr>\n",
       "      <th>2</th>\n",
       "      <td>라일락</td>\n",
       "      <td>175,244</td>\n",
       "    </tr>\n",
       "    <tr>\n",
       "      <th>3</th>\n",
       "      <td>운전만해 (We Ride)</td>\n",
       "      <td>94,058</td>\n",
       "    </tr>\n",
       "    <tr>\n",
       "      <th>4</th>\n",
       "      <td>Celebrity</td>\n",
       "      <td>276,775</td>\n",
       "    </tr>\n",
       "    <tr>\n",
       "      <th>...</th>\n",
       "      <td>...</td>\n",
       "      <td>...</td>\n",
       "    </tr>\n",
       "    <tr>\n",
       "      <th>94</th>\n",
       "      <td>사랑은 지날수록 더욱 선명하게 남아</td>\n",
       "      <td>63,220</td>\n",
       "    </tr>\n",
       "    <tr>\n",
       "      <th>95</th>\n",
       "      <td>Panorama</td>\n",
       "      <td>64,129</td>\n",
       "    </tr>\n",
       "    <tr>\n",
       "      <th>96</th>\n",
       "      <td>서른 밤째 (바른연애 길잡이 X 윤하 (YOUNHA))</td>\n",
       "      <td>36,475</td>\n",
       "    </tr>\n",
       "    <tr>\n",
       "      <th>97</th>\n",
       "      <td>다시 만날까 봐 (Prod.V.O.S)</td>\n",
       "      <td>20,473</td>\n",
       "    </tr>\n",
       "    <tr>\n",
       "      <th>98</th>\n",
       "      <td>Don't Call Me</td>\n",
       "      <td>62,073</td>\n",
       "    </tr>\n",
       "  </tbody>\n",
       "</table>\n",
       "<p>99 rows × 2 columns</p>\n",
       "</div>"
      ],
      "text/plain": [
       "                                      song     like\n",
       "0                             롤린 (Rollin')  252,692\n",
       "1   Peaches (Feat. Daniel Caesar & Giveon)  118,922\n",
       "2                                      라일락  175,244\n",
       "3                           운전만해 (We Ride)   94,058\n",
       "4                                Celebrity  276,775\n",
       "..                                     ...      ...\n",
       "94                     사랑은 지날수록 더욱 선명하게 남아   63,220\n",
       "95                                Panorama   64,129\n",
       "96          서른 밤째 (바른연애 길잡이 X 윤하 (YOUNHA))   36,475\n",
       "97                   다시 만날까 봐 (Prod.V.O.S)   20,473\n",
       "98                           Don't Call Me   62,073\n",
       "\n",
       "[99 rows x 2 columns]"
      ]
     },
     "execution_count": 84,
     "metadata": {},
     "output_type": "execute_result"
    }
   ],
   "source": [
    "df = pd.DataFrame({'song' : song, 'like' : like})\n",
    "df"
   ]
  },
  {
   "cell_type": "code",
   "execution_count": 107,
   "metadata": {},
   "outputs": [],
   "source": [
    "df_10 = df.head(20)\n",
    "df_10_1 = df.tail(20)"
   ]
  },
  {
   "cell_type": "code",
   "execution_count": 108,
   "metadata": {},
   "outputs": [
    {
     "data": {
      "text/html": [
       "<div>\n",
       "<style scoped>\n",
       "    .dataframe tbody tr th:only-of-type {\n",
       "        vertical-align: middle;\n",
       "    }\n",
       "\n",
       "    .dataframe tbody tr th {\n",
       "        vertical-align: top;\n",
       "    }\n",
       "\n",
       "    .dataframe thead th {\n",
       "        text-align: right;\n",
       "    }\n",
       "</style>\n",
       "<table border=\"1\" class=\"dataframe\">\n",
       "  <thead>\n",
       "    <tr style=\"text-align: right;\">\n",
       "      <th></th>\n",
       "      <th>song</th>\n",
       "      <th>like</th>\n",
       "    </tr>\n",
       "  </thead>\n",
       "  <tbody>\n",
       "    <tr>\n",
       "      <th>0</th>\n",
       "      <td>롤린 (Rollin')</td>\n",
       "      <td>252,692</td>\n",
       "    </tr>\n",
       "    <tr>\n",
       "      <th>1</th>\n",
       "      <td>Peaches (Feat. Daniel Caesar &amp; Giveon)</td>\n",
       "      <td>118,922</td>\n",
       "    </tr>\n",
       "    <tr>\n",
       "      <th>2</th>\n",
       "      <td>라일락</td>\n",
       "      <td>175,244</td>\n",
       "    </tr>\n",
       "    <tr>\n",
       "      <th>3</th>\n",
       "      <td>운전만해 (We Ride)</td>\n",
       "      <td>94,058</td>\n",
       "    </tr>\n",
       "    <tr>\n",
       "      <th>4</th>\n",
       "      <td>Celebrity</td>\n",
       "      <td>276,775</td>\n",
       "    </tr>\n",
       "    <tr>\n",
       "      <th>5</th>\n",
       "      <td>Timeless</td>\n",
       "      <td>73,293</td>\n",
       "    </tr>\n",
       "    <tr>\n",
       "      <th>6</th>\n",
       "      <td>라라라</td>\n",
       "      <td>63,538</td>\n",
       "    </tr>\n",
       "    <tr>\n",
       "      <th>7</th>\n",
       "      <td>내사람</td>\n",
       "      <td>53,991</td>\n",
       "    </tr>\n",
       "    <tr>\n",
       "      <th>8</th>\n",
       "      <td>내 손을 잡아</td>\n",
       "      <td>139,629</td>\n",
       "    </tr>\n",
       "    <tr>\n",
       "      <th>9</th>\n",
       "      <td>Coin</td>\n",
       "      <td>80,728</td>\n",
       "    </tr>\n",
       "    <tr>\n",
       "      <th>10</th>\n",
       "      <td>Dynamite</td>\n",
       "      <td>396,520</td>\n",
       "    </tr>\n",
       "    <tr>\n",
       "      <th>11</th>\n",
       "      <td>LOVE DAY (2021) (바른연애 길잡이 X 양요섭, 정은지)</td>\n",
       "      <td>81,675</td>\n",
       "    </tr>\n",
       "    <tr>\n",
       "      <th>12</th>\n",
       "      <td>On The Ground</td>\n",
       "      <td>117,495</td>\n",
       "    </tr>\n",
       "    <tr>\n",
       "      <th>13</th>\n",
       "      <td>밝게 빛나는 별이 되어 비춰줄게</td>\n",
       "      <td>65,141</td>\n",
       "    </tr>\n",
       "    <tr>\n",
       "      <th>14</th>\n",
       "      <td>밤하늘의 별을(2020)</td>\n",
       "      <td>146,507</td>\n",
       "    </tr>\n",
       "    <tr>\n",
       "      <th>15</th>\n",
       "      <td>그냥 안아달란 말야</td>\n",
       "      <td>29,097</td>\n",
       "    </tr>\n",
       "    <tr>\n",
       "      <th>16</th>\n",
       "      <td>살다가</td>\n",
       "      <td>60,557</td>\n",
       "    </tr>\n",
       "    <tr>\n",
       "      <th>17</th>\n",
       "      <td>잠이 오질 않네요</td>\n",
       "      <td>134,290</td>\n",
       "    </tr>\n",
       "    <tr>\n",
       "      <th>18</th>\n",
       "      <td>멜로디</td>\n",
       "      <td>59,270</td>\n",
       "    </tr>\n",
       "    <tr>\n",
       "      <th>19</th>\n",
       "      <td>Blueming</td>\n",
       "      <td>303,954</td>\n",
       "    </tr>\n",
       "  </tbody>\n",
       "</table>\n",
       "</div>"
      ],
      "text/plain": [
       "                                      song     like\n",
       "0                             롤린 (Rollin')  252,692\n",
       "1   Peaches (Feat. Daniel Caesar & Giveon)  118,922\n",
       "2                                      라일락  175,244\n",
       "3                           운전만해 (We Ride)   94,058\n",
       "4                                Celebrity  276,775\n",
       "5                                 Timeless   73,293\n",
       "6                                      라라라   63,538\n",
       "7                                      내사람   53,991\n",
       "8                                  내 손을 잡아  139,629\n",
       "9                                     Coin   80,728\n",
       "10                                Dynamite  396,520\n",
       "11   LOVE DAY (2021) (바른연애 길잡이 X 양요섭, 정은지)   81,675\n",
       "12                           On The Ground  117,495\n",
       "13                       밝게 빛나는 별이 되어 비춰줄게   65,141\n",
       "14                           밤하늘의 별을(2020)  146,507\n",
       "15                              그냥 안아달란 말야   29,097\n",
       "16                                     살다가   60,557\n",
       "17                               잠이 오질 않네요  134,290\n",
       "18                                     멜로디   59,270\n",
       "19                                Blueming  303,954"
      ]
     },
     "execution_count": 108,
     "metadata": {},
     "output_type": "execute_result"
    }
   ],
   "source": [
    "df_10"
   ]
  },
  {
   "cell_type": "code",
   "execution_count": 109,
   "metadata": {},
   "outputs": [],
   "source": [
    "import pandas as pd\n",
    "import numpy as np\n",
    "\n",
    "import matplotlib.pyplot as plt # 시각화 라이브러리\n",
    "import seaborn as sns           # 시각화 라이브러리\n",
    "\n",
    "from tqdm import tqdm_notebook # for문 진행상황 게이지로 알려줌"
   ]
  },
  {
   "cell_type": "code",
   "execution_count": 110,
   "metadata": {},
   "outputs": [],
   "source": [
    "# 파이썬 warning 무시\n",
    "import warnings\n",
    "warnings.filterwarnings(action='ignore') "
   ]
  },
  {
   "cell_type": "code",
   "execution_count": 111,
   "metadata": {
    "scrolled": true
   },
   "outputs": [
    {
     "data": {
      "text/html": [
       "<div>\n",
       "<style scoped>\n",
       "    .dataframe tbody tr th:only-of-type {\n",
       "        vertical-align: middle;\n",
       "    }\n",
       "\n",
       "    .dataframe tbody tr th {\n",
       "        vertical-align: top;\n",
       "    }\n",
       "\n",
       "    .dataframe thead th {\n",
       "        text-align: right;\n",
       "    }\n",
       "</style>\n",
       "<table border=\"1\" class=\"dataframe\">\n",
       "  <thead>\n",
       "    <tr style=\"text-align: right;\">\n",
       "      <th></th>\n",
       "      <th>song</th>\n",
       "      <th>like</th>\n",
       "      <th>like2</th>\n",
       "    </tr>\n",
       "  </thead>\n",
       "  <tbody>\n",
       "    <tr>\n",
       "      <th>0</th>\n",
       "      <td>롤린 (Rollin')</td>\n",
       "      <td>252,692</td>\n",
       "      <td>252692</td>\n",
       "    </tr>\n",
       "    <tr>\n",
       "      <th>1</th>\n",
       "      <td>Peaches (Feat. Daniel Caesar &amp; Giveon)</td>\n",
       "      <td>118,922</td>\n",
       "      <td>118922</td>\n",
       "    </tr>\n",
       "    <tr>\n",
       "      <th>2</th>\n",
       "      <td>라일락</td>\n",
       "      <td>175,244</td>\n",
       "      <td>175244</td>\n",
       "    </tr>\n",
       "    <tr>\n",
       "      <th>3</th>\n",
       "      <td>운전만해 (We Ride)</td>\n",
       "      <td>94,058</td>\n",
       "      <td>94058</td>\n",
       "    </tr>\n",
       "    <tr>\n",
       "      <th>4</th>\n",
       "      <td>Celebrity</td>\n",
       "      <td>276,775</td>\n",
       "      <td>276775</td>\n",
       "    </tr>\n",
       "    <tr>\n",
       "      <th>5</th>\n",
       "      <td>Timeless</td>\n",
       "      <td>73,293</td>\n",
       "      <td>73293</td>\n",
       "    </tr>\n",
       "    <tr>\n",
       "      <th>6</th>\n",
       "      <td>라라라</td>\n",
       "      <td>63,538</td>\n",
       "      <td>63538</td>\n",
       "    </tr>\n",
       "    <tr>\n",
       "      <th>7</th>\n",
       "      <td>내사람</td>\n",
       "      <td>53,991</td>\n",
       "      <td>53991</td>\n",
       "    </tr>\n",
       "    <tr>\n",
       "      <th>8</th>\n",
       "      <td>내 손을 잡아</td>\n",
       "      <td>139,629</td>\n",
       "      <td>139629</td>\n",
       "    </tr>\n",
       "    <tr>\n",
       "      <th>9</th>\n",
       "      <td>Coin</td>\n",
       "      <td>80,728</td>\n",
       "      <td>80728</td>\n",
       "    </tr>\n",
       "    <tr>\n",
       "      <th>10</th>\n",
       "      <td>Dynamite</td>\n",
       "      <td>396,520</td>\n",
       "      <td>396520</td>\n",
       "    </tr>\n",
       "    <tr>\n",
       "      <th>11</th>\n",
       "      <td>LOVE DAY (2021) (바른연애 길잡이 X 양요섭, 정은지)</td>\n",
       "      <td>81,675</td>\n",
       "      <td>81675</td>\n",
       "    </tr>\n",
       "    <tr>\n",
       "      <th>12</th>\n",
       "      <td>On The Ground</td>\n",
       "      <td>117,495</td>\n",
       "      <td>117495</td>\n",
       "    </tr>\n",
       "    <tr>\n",
       "      <th>13</th>\n",
       "      <td>밝게 빛나는 별이 되어 비춰줄게</td>\n",
       "      <td>65,141</td>\n",
       "      <td>65141</td>\n",
       "    </tr>\n",
       "    <tr>\n",
       "      <th>14</th>\n",
       "      <td>밤하늘의 별을(2020)</td>\n",
       "      <td>146,507</td>\n",
       "      <td>146507</td>\n",
       "    </tr>\n",
       "    <tr>\n",
       "      <th>15</th>\n",
       "      <td>그냥 안아달란 말야</td>\n",
       "      <td>29,097</td>\n",
       "      <td>29097</td>\n",
       "    </tr>\n",
       "    <tr>\n",
       "      <th>16</th>\n",
       "      <td>살다가</td>\n",
       "      <td>60,557</td>\n",
       "      <td>60557</td>\n",
       "    </tr>\n",
       "    <tr>\n",
       "      <th>17</th>\n",
       "      <td>잠이 오질 않네요</td>\n",
       "      <td>134,290</td>\n",
       "      <td>134290</td>\n",
       "    </tr>\n",
       "    <tr>\n",
       "      <th>18</th>\n",
       "      <td>멜로디</td>\n",
       "      <td>59,270</td>\n",
       "      <td>59270</td>\n",
       "    </tr>\n",
       "    <tr>\n",
       "      <th>19</th>\n",
       "      <td>Blueming</td>\n",
       "      <td>303,954</td>\n",
       "      <td>303954</td>\n",
       "    </tr>\n",
       "  </tbody>\n",
       "</table>\n",
       "</div>"
      ],
      "text/plain": [
       "                                      song     like   like2\n",
       "0                             롤린 (Rollin')  252,692  252692\n",
       "1   Peaches (Feat. Daniel Caesar & Giveon)  118,922  118922\n",
       "2                                      라일락  175,244  175244\n",
       "3                           운전만해 (We Ride)   94,058   94058\n",
       "4                                Celebrity  276,775  276775\n",
       "5                                 Timeless   73,293   73293\n",
       "6                                      라라라   63,538   63538\n",
       "7                                      내사람   53,991   53991\n",
       "8                                  내 손을 잡아  139,629  139629\n",
       "9                                     Coin   80,728   80728\n",
       "10                                Dynamite  396,520  396520\n",
       "11   LOVE DAY (2021) (바른연애 길잡이 X 양요섭, 정은지)   81,675   81675\n",
       "12                           On The Ground  117,495  117495\n",
       "13                       밝게 빛나는 별이 되어 비춰줄게   65,141   65141\n",
       "14                           밤하늘의 별을(2020)  146,507  146507\n",
       "15                              그냥 안아달란 말야   29,097   29097\n",
       "16                                     살다가   60,557   60557\n",
       "17                               잠이 오질 않네요  134,290  134290\n",
       "18                                     멜로디   59,270   59270\n",
       "19                                Blueming  303,954  303954"
      ]
     },
     "execution_count": 111,
     "metadata": {},
     "output_type": "execute_result"
    }
   ],
   "source": [
    "a = df_10.like.str.replace(',', '').astype('int32')\n",
    "d = df_10_1.like.str.replace(',', '').astype('int32')# 문자열로 인식된 숫자데이터 중간에 ','삭제하고 정수데이터로 변환\n",
    "df_10['like2'] = a\n",
    "df_10_1['like2'] = d\n",
    "df_10"
   ]
  },
  {
   "cell_type": "code",
   "execution_count": 112,
   "metadata": {},
   "outputs": [
    {
     "data": {
      "image/png": "[encoded data removed]",
      "text/plain": [
       "<Figure size 432x288 with 1 Axes>"
      ]
     },
     "metadata": {
      "needs_background": "light"
     },
     "output_type": "display_data"
    }
   ],
   "source": [
    "#한글깨짐 현상 해결 \n",
    "import matplotlib \n",
    "import platform\n",
    "matplotlib.rc('font',family = 'Malgun Gothic')\n",
    "\n",
    "\n",
    "#그래프 그리기\n",
    "plt.bar(range(len(df_10)), df_10.like2)\n",
    "\n",
    "ax = plt.subplot()\n",
    "ax.set_xticks(range(0,20))\n",
    "ax.set_xticklabels(df_10.song, rotation=90)\n",
    "\n",
    "plt.show()"
   ]
  },
  {
   "cell_type": "code",
   "execution_count": 113,
   "metadata": {},
   "outputs": [
    {
     "data": {
      "image/png": "[encoded data removed]",
      "text/plain": [
       "<Figure size 432x288 with 1 Axes>"
      ]
     },
     "metadata": {
      "needs_background": "light"
     },
     "output_type": "display_data"
    }
   ],
   "source": [
    "plt.bar(range(len(df_10_1)), df_10_1.like2)\n",
    "\n",
    "ax = plt.subplot()\n",
    "ax.set_xticks(range(0,20))\n",
    "ax.set_xticklabels(df_10_1.song, rotation=90)\n",
    "\n",
    "plt.show()"
   ]
  },
  {
   "cell_type": "code",
   "execution_count": null,
   "metadata": {},
   "outputs": [],
   "source": []
  },
  {
   "cell_type": "code",
   "execution_count": null,
   "metadata": {},
   "outputs": [],
   "source": []
  },
  {
   "cell_type": "code",
   "execution_count": null,
   "metadata": {},
   "outputs": [],
   "source": []
  },
  {
   "cell_type": "code",
   "execution_count": null,
   "metadata": {},
   "outputs": [],
   "source": []
  }
 ],
 "metadata": {
  "kernelspec": {
   "display_name": "Python 3",
   "language": "python",
   "name": "python3"
  },
  "language_info": {
   "codemirror_mode": {
    "name": "ipython",
    "version": 3
   },
   "file_extension": ".py",
   "mimetype": "text/x-python",
   "name": "python",
   "nbconvert_exporter": "python",
   "pygments_lexer": "ipython3",
   "version": "3.8.5"
  }
 },
 "nbformat": 4,
 "nbformat_minor": 4
}
